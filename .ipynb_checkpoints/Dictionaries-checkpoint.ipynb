{
 "cells": [
  {
   "cell_type": "markdown",
   "metadata": {},
   "source": [
    "# Dictionaries"
   ]
  },
  {
   "cell_type": "code",
   "execution_count": 1,
   "metadata": {},
   "outputs": [],
   "source": [
    "# unordered\n",
    "# connects information in key:value pair\n",
    "# value can be a list\n",
    "\n",
    "dict1 = {\"History\":35, \"Chemistry\":54, \"German\":29}\n",
    "dict2 = {\"History\":[3,35], \"Chemistry\":[5,54], \"German\":[2,29]}"
   ]
  },
  {
   "cell_type": "code",
   "execution_count": 2,
   "metadata": {},
   "outputs": [
    {
     "data": {
      "text/plain": [
       "[3, 35]"
      ]
     },
     "execution_count": 2,
     "metadata": {},
     "output_type": "execute_result"
    }
   ],
   "source": [
    "dict2[\"History\"]"
   ]
  },
  {
   "cell_type": "markdown",
   "metadata": {},
   "source": [
    "### Adding to a dictionary"
   ]
  },
  {
   "cell_type": "code",
   "execution_count": 4,
   "metadata": {},
   "outputs": [
    {
     "data": {
      "text/plain": [
       "{'History': [3, 35],\n",
       " 'Chemistry': [5, 54],\n",
       " 'German': [2, 29],\n",
       " 'French': [6, 95]}"
      ]
     },
     "execution_count": 4,
     "metadata": {},
     "output_type": "execute_result"
    }
   ],
   "source": [
    "dict2[\"French\"] = [6,95]\n",
    "dict2"
   ]
  },
  {
   "cell_type": "code",
   "execution_count": 7,
   "metadata": {},
   "outputs": [
    {
     "data": {
      "text/plain": [
       "{'History': [3, 35],\n",
       " 'Chemistry': [5, 54],\n",
       " 'German': [2, 29],\n",
       " 'French': [6, 95],\n",
       " 'Biology': [4, 76],\n",
       " 'Maths': [1, 35]}"
      ]
     },
     "execution_count": 7,
     "metadata": {},
     "output_type": "execute_result"
    }
   ],
   "source": [
    "# use .update to add more than one\n",
    "\n",
    "dict2.update({\"Biology\":[4,76],\"Maths\":[1,35]})\n",
    "dict2"
   ]
  },
  {
   "cell_type": "code",
   "execution_count": 9,
   "metadata": {},
   "outputs": [
    {
     "data": {
      "text/plain": [
       "{'History': [3, 35],\n",
       " 'Chemistry': [5, 54],\n",
       " 'German': [2, 29],\n",
       " 'French': [6, 95],\n",
       " 'Biology': [4, 76],\n",
       " 'Maths': [1, 37]}"
      ]
     },
     "execution_count": 9,
     "metadata": {},
     "output_type": "execute_result"
    }
   ],
   "source": [
    "dict2[\"Maths\"] = [1,37]\n",
    "dict2"
   ]
  },
  {
   "cell_type": "markdown",
   "metadata": {},
   "source": [
    "### Deleting from a dictionary"
   ]
  },
  {
   "cell_type": "code",
   "execution_count": 10,
   "metadata": {},
   "outputs": [
    {
     "data": {
      "text/plain": [
       "{'History': [3, 35],\n",
       " 'German': [2, 29],\n",
       " 'French': [6, 95],\n",
       " 'Biology': [4, 76],\n",
       " 'Maths': [1, 37]}"
      ]
     },
     "execution_count": 10,
     "metadata": {},
     "output_type": "execute_result"
    }
   ],
   "source": [
    "del dict2[\"Chemistry\"]\n",
    "dict2"
   ]
  },
  {
   "cell_type": "code",
   "execution_count": null,
   "metadata": {},
   "outputs": [],
   "source": []
  }
 ],
 "metadata": {
  "kernelspec": {
   "display_name": "Python 3",
   "language": "python",
   "name": "python3"
  },
  "language_info": {
   "codemirror_mode": {
    "name": "ipython",
    "version": 3
   },
   "file_extension": ".py",
   "mimetype": "text/x-python",
   "name": "python",
   "nbconvert_exporter": "python",
   "pygments_lexer": "ipython3",
   "version": "3.8.3"
  }
 },
 "nbformat": 4,
 "nbformat_minor": 4
}
